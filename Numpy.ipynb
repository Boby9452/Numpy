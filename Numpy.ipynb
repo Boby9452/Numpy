{
  "nbformat": 4,
  "nbformat_minor": 0,
  "metadata": {
    "colab": {
      "provenance": []
    },
    "kernelspec": {
      "name": "python3",
      "display_name": "Python 3"
    },
    "language_info": {
      "name": "python"
    }
  },
  "cells": [
    {
      "cell_type": "code",
      "execution_count": null,
      "metadata": {
        "colab": {
          "base_uri": "https://localhost:8080/"
        },
        "id": "VC9AfOoFN2jx",
        "outputId": "fc9f1b63-9a7f-4a70-867f-2c3d45c5a47e"
      },
      "outputs": [
        {
          "output_type": "stream",
          "name": "stdout",
          "text": [
            "[2 3 4 5 6 7 8]\n"
          ]
        }
      ],
      "source": [
        "import numpy as np\n",
        "l1=[2,3,4,5,6,7,8]\n",
        "a=np.array(l1)\n",
        "print(a)"
      ]
    },
    {
      "cell_type": "code",
      "source": [
        "a.shape"
      ],
      "metadata": {
        "colab": {
          "base_uri": "https://localhost:8080/"
        },
        "id": "L4ZasHdbOXYY",
        "outputId": "1dbaf6e0-5ca9-436f-dd49-292db0a59f64"
      },
      "execution_count": null,
      "outputs": [
        {
          "output_type": "execute_result",
          "data": {
            "text/plain": [
              "(7,)"
            ]
          },
          "metadata": {},
          "execution_count": 10
        }
      ]
    },
    {
      "cell_type": "code",
      "source": [
        "type(a)"
      ],
      "metadata": {
        "colab": {
          "base_uri": "https://localhost:8080/"
        },
        "id": "gNjE6N_gQyF_",
        "outputId": "1f62b35c-d993-4ce9-a791-29d148594f6f"
      },
      "execution_count": null,
      "outputs": [
        {
          "output_type": "execute_result",
          "data": {
            "text/plain": [
              "numpy.ndarray"
            ]
          },
          "metadata": {},
          "execution_count": 11
        }
      ]
    },
    {
      "cell_type": "markdown",
      "source": [
        "my_list=[4,5,6,7,8]\n",
        "my_list2=[-2,6,8,3,4]\n",
        "my_list3=[5,6,0,-3,5]\n",
        "convert these list into a multinested array and fetch given rows and columns.\n",
        "1.arr=[0:2,2:]"
      ],
      "metadata": {
        "id": "F9dedQEC26wf"
      }
    },
    {
      "cell_type": "code",
      "source": [
        "import numpy as np\n",
        "my_list=[4,5,6,7,8]\n",
        "my_list2=[-2,6,8,3,4] \n",
        "my_list3=[5,6,0,-3,5]\n",
        "arr=np.array([my_list,my_list2,my_list3])\n",
        "print(arr)"
      ],
      "metadata": {
        "colab": {
          "base_uri": "https://localhost:8080/"
        },
        "id": "J1HcOAri4cVd",
        "outputId": "f3134651-2911-497e-ca59-d797ca52c7fc"
      },
      "execution_count": null,
      "outputs": [
        {
          "output_type": "stream",
          "name": "stdout",
          "text": [
            "[[ 4  5  6  7  8]\n",
            " [-2  6  8  3  4]\n",
            " [ 5  6  0 -3  5]]\n"
          ]
        }
      ]
    },
    {
      "cell_type": "code",
      "source": [
        "print(arr[0:2,1:2])"
      ],
      "metadata": {
        "colab": {
          "base_uri": "https://localhost:8080/"
        },
        "id": "TaaaVlA-0pu4",
        "outputId": "62f894f8-789a-4388-d98a-b0ad93cc2629"
      },
      "execution_count": null,
      "outputs": [
        {
          "output_type": "stream",
          "name": "stdout",
          "text": [
            "[[5]\n",
            " [6]]\n"
          ]
        }
      ]
    },
    {
      "cell_type": "code",
      "source": [
        "np.arange(1,10,2)"
      ],
      "metadata": {
        "colab": {
          "base_uri": "https://localhost:8080/"
        },
        "id": "ThUCy40n8UNc",
        "outputId": "a9ae6699-1683-4630-8c89-bc2726b01bed"
      },
      "execution_count": null,
      "outputs": [
        {
          "output_type": "execute_result",
          "data": {
            "text/plain": [
              "array([1, 3, 5, 7, 9])"
            ]
          },
          "metadata": {},
          "execution_count": 7
        }
      ]
    },
    {
      "cell_type": "code",
      "source": [
        "np.linspace(1,10)"
      ],
      "metadata": {
        "colab": {
          "base_uri": "https://localhost:8080/"
        },
        "id": "jmk_yX3I8JSs",
        "outputId": "858ee299-56bf-4fe8-aba0-f6fac1f95d3f"
      },
      "execution_count": null,
      "outputs": [
        {
          "output_type": "execute_result",
          "data": {
            "text/plain": [
              "array([ 1.        ,  1.18367347,  1.36734694,  1.55102041,  1.73469388,\n",
              "        1.91836735,  2.10204082,  2.28571429,  2.46938776,  2.65306122,\n",
              "        2.83673469,  3.02040816,  3.20408163,  3.3877551 ,  3.57142857,\n",
              "        3.75510204,  3.93877551,  4.12244898,  4.30612245,  4.48979592,\n",
              "        4.67346939,  4.85714286,  5.04081633,  5.2244898 ,  5.40816327,\n",
              "        5.59183673,  5.7755102 ,  5.95918367,  6.14285714,  6.32653061,\n",
              "        6.51020408,  6.69387755,  6.87755102,  7.06122449,  7.24489796,\n",
              "        7.42857143,  7.6122449 ,  7.79591837,  7.97959184,  8.16326531,\n",
              "        8.34693878,  8.53061224,  8.71428571,  8.89795918,  9.08163265,\n",
              "        9.26530612,  9.44897959,  9.63265306,  9.81632653, 10.        ])"
            ]
          },
          "metadata": {},
          "execution_count": 8
        }
      ]
    },
    {
      "cell_type": "code",
      "source": [
        "np.random.rand(4,5)"
      ],
      "metadata": {
        "colab": {
          "base_uri": "https://localhost:8080/"
        },
        "id": "e_TwADp-AMcL",
        "outputId": "29349e7a-93e3-4ef0-c0f2-9bf842a435f6"
      },
      "execution_count": null,
      "outputs": [
        {
          "output_type": "execute_result",
          "data": {
            "text/plain": [
              "array([[0.71734064, 0.96637789, 0.81195354, 0.89382902, 0.19212967],\n",
              "       [0.07608832, 0.60313428, 0.56305956, 0.22836851, 0.41237667],\n",
              "       [0.97231995, 0.45448556, 0.88835784, 0.35631796, 0.81581053],\n",
              "       [0.98588038, 0.34405613, 0.07944679, 0.11367405, 0.82927251]])"
            ]
          },
          "metadata": {},
          "execution_count": 12
        }
      ]
    },
    {
      "cell_type": "code",
      "source": [
        "np.random.randint(3,4,5)"
      ],
      "metadata": {
        "colab": {
          "base_uri": "https://localhost:8080/"
        },
        "id": "3k8NXZdLCm4r",
        "outputId": "8364cbd4-0441-46a2-c9cc-a28a51550b7a"
      },
      "execution_count": null,
      "outputs": [
        {
          "output_type": "execute_result",
          "data": {
            "text/plain": [
              "array([3, 3, 3, 3, 3])"
            ]
          },
          "metadata": {},
          "execution_count": 15
        }
      ]
    },
    {
      "cell_type": "code",
      "source": [
        "import numpy as np\n",
        "np.arange(3,5)"
      ],
      "metadata": {
        "colab": {
          "base_uri": "https://localhost:8080/"
        },
        "id": "cWVhENbpHaCn",
        "outputId": "fcc7b429-7020-4b90-c857-9e37e0bc5f4c"
      },
      "execution_count": null,
      "outputs": [
        {
          "output_type": "execute_result",
          "data": {
            "text/plain": [
              "array([3, 4])"
            ]
          },
          "metadata": {},
          "execution_count": 2
        }
      ]
    },
    {
      "cell_type": "code",
      "source": [
        "import numpy as np\n",
        "np.linspace(4,5,55)"
      ],
      "metadata": {
        "colab": {
          "base_uri": "https://localhost:8080/"
        },
        "id": "1ePCLazUH7zA",
        "outputId": "b680c3b1-921a-44a7-d1f8-2d93c41f1e48"
      },
      "execution_count": null,
      "outputs": [
        {
          "output_type": "execute_result",
          "data": {
            "text/plain": [
              "array([4.        , 4.01851852, 4.03703704, 4.05555556, 4.07407407,\n",
              "       4.09259259, 4.11111111, 4.12962963, 4.14814815, 4.16666667,\n",
              "       4.18518519, 4.2037037 , 4.22222222, 4.24074074, 4.25925926,\n",
              "       4.27777778, 4.2962963 , 4.31481481, 4.33333333, 4.35185185,\n",
              "       4.37037037, 4.38888889, 4.40740741, 4.42592593, 4.44444444,\n",
              "       4.46296296, 4.48148148, 4.5       , 4.51851852, 4.53703704,\n",
              "       4.55555556, 4.57407407, 4.59259259, 4.61111111, 4.62962963,\n",
              "       4.64814815, 4.66666667, 4.68518519, 4.7037037 , 4.72222222,\n",
              "       4.74074074, 4.75925926, 4.77777778, 4.7962963 , 4.81481481,\n",
              "       4.83333333, 4.85185185, 4.87037037, 4.88888889, 4.90740741,\n",
              "       4.92592593, 4.94444444, 4.96296296, 4.98148148, 5.        ])"
            ]
          },
          "metadata": {},
          "execution_count": 2
        }
      ]
    },
    {
      "cell_type": "code",
      "source": [
        "import numpy as np\n",
        "np.random.rand(3,4)\n"
      ],
      "metadata": {
        "colab": {
          "base_uri": "https://localhost:8080/"
        },
        "id": "AEf69RJTO5-O",
        "outputId": "51d38844-c369-4817-eaf2-483b7026bdc1"
      },
      "execution_count": null,
      "outputs": [
        {
          "output_type": "execute_result",
          "data": {
            "text/plain": [
              "array([[0.24741887, 0.98202212, 0.24431216, 0.41562916],\n",
              "       [0.71112045, 0.94054869, 0.37825022, 0.06363786],\n",
              "       [0.55044221, 0.09770266, 0.25890315, 0.2844595 ]])"
            ]
          },
          "metadata": {},
          "execution_count": 3
        }
      ]
    },
    {
      "cell_type": "code",
      "source": [
        "import numpy as np\n",
        "np.random.randint(4,5,6)"
      ],
      "metadata": {
        "colab": {
          "base_uri": "https://localhost:8080/"
        },
        "id": "-spseFaPPMyc",
        "outputId": "72d331a9-121e-4a78-d826-7ac9fd7ad4d4"
      },
      "execution_count": null,
      "outputs": [
        {
          "output_type": "execute_result",
          "data": {
            "text/plain": [
              "array([4, 4, 4, 4, 4, 4])"
            ]
          },
          "metadata": {},
          "execution_count": 6
        }
      ]
    }
  ]
}